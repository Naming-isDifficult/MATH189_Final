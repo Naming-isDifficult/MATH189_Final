{
 "cells": [
  {
   "cell_type": "markdown",
   "metadata": {},
   "source": [
    "## Data Description\n",
    "- Instructor: Name of the instructor\n",
    "- Course: Name of the course,\n",
    "- Term: In which term the course is held\n",
    "- Enroll: Number of students enrolled\n",
    "- Evals Made: Number of evaluations made (does not affect Avg Grade Expected)\n",
    "- Rcmnd Class: Proportion of students who recommend class\n",
    "- Rcmnd Instr: Proportion of students who recommend instructor\n",
    "- Study Hrs/wk: Study hours per week\n",
    "- Avg Grade Expected: Expected average grade (among evaluations made)\n",
    "- Avg Grade Received: Actual average grade (among all students)\n",
    "- isPreGPT: GPT hasn't been introduced when the course in live\n",
    "- isSTEM: The course is a STEM course\n",
    "- isAbstract: The course is either proof based or focusing on abstract concepts that GPT is not good at (valid if `isSTEM=True`)\n",
    "- isWritten: The course is mainly based on written materials instead of audio/video (valid if `isSTEM=False`)\n",
    "- isUD: The course is upper division course"
   ]
  },
  {
   "cell_type": "code",
   "execution_count": null,
   "metadata": {},
   "outputs": [],
   "source": [
    "# import statements..."
   ]
  },
  {
   "cell_type": "markdown",
   "metadata": {},
   "source": [
    "## Exploratory Data Analysis (EDA)\n",
    "- **Descriptive Statistics**\n",
    "  - Summary statistics for key features.\n",
    "- **Visualizations**\n",
    "  - Histograms, box plots, and other relevant visualizations to understand the distribution of grades and other features"
   ]
  },
  {
   "cell_type": "code",
   "execution_count": null,
   "metadata": {},
   "outputs": [],
   "source": []
  },
  {
   "cell_type": "markdown",
   "metadata": {},
   "source": [
    "## Analysis\n",
    "\n",
    "Dividing data into several sub-groups\n",
    "\n",
    "All of them should undergoes pretty similar structure:\n",
    "1. Compare distributions (i.e. histogram, boxplot, etc.)\n",
    "2. Statistical tests\n",
    "3. Interpretation"
   ]
  },
  {
   "cell_type": "markdown",
   "metadata": {},
   "source": [
    "#### STEM Lower Division Courses\n",
    "- STEM_lowerDivision_preGPT vs. STEM_lowerDivision_postGPT"
   ]
  },
  {
   "cell_type": "code",
   "execution_count": null,
   "metadata": {},
   "outputs": [],
   "source": []
  },
  {
   "cell_type": "markdown",
   "metadata": {},
   "source": [
    "#### Arts Lower Division Courses\n",
    "- Arts_lowerDivision_writtenBased_preGPT vs. Arts_lowerDivision_writtenBased_postGPT\n",
    "- Arts_lowerDivision_notWrittenBased_preGPT vs. Arts_lowerDivision_notWrittenBased_postGPT"
   ]
  },
  {
   "cell_type": "code",
   "execution_count": null,
   "metadata": {},
   "outputs": [],
   "source": []
  },
  {
   "cell_type": "markdown",
   "metadata": {},
   "source": [
    "#### STEM Upper Division Courses\n",
    "- STEM_upperDivision_nonAbstract_preGPT vs. STEM_upperDivision_nonAbstract_postGPT\n",
    "- STEM_upperDivision_abstract_preGPT vs. STEM_upperDivision_abstract_postGPT"
   ]
  },
  {
   "cell_type": "code",
   "execution_count": null,
   "metadata": {},
   "outputs": [],
   "source": []
  },
  {
   "cell_type": "markdown",
   "metadata": {},
   "source": [
    "#### Arts Upper Division Courses\n",
    "- Arts_upperDivision_writtenBased_preGPT vs. Arts_upperDivision_writtenBased_postGPT\n",
    "\n",
    "- Arts_upperDivision_notWrittenBased_preGPT vs. Arts_upperDivision_notWrittenBased_postGPT"
   ]
  },
  {
   "cell_type": "code",
   "execution_count": null,
   "metadata": {},
   "outputs": [],
   "source": []
  },
  {
   "cell_type": "markdown",
   "metadata": {},
   "source": [
    "#### Potential cross comparisons\n",
    "Not quite sure what to include at this time but there should be some."
   ]
  },
  {
   "cell_type": "code",
   "execution_count": null,
   "metadata": {},
   "outputs": [],
   "source": []
  }
 ],
 "metadata": {
  "language_info": {
   "name": "python"
  }
 },
 "nbformat": 4,
 "nbformat_minor": 2
}
