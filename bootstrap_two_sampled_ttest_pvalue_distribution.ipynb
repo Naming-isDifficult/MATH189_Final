{
 "cells": [
  {
   "cell_type": "code",
   "execution_count": 1,
   "id": "f02cb058",
   "metadata": {},
   "outputs": [],
   "source": [
    "import numpy as np\n",
    "import scipy.stats as stats\n",
    "import matplotlib.pyplot as plt\n",
    "import seaborn as sns\n",
    "from tqdm import tqdm"
   ]
  },
  {
   "cell_type": "markdown",
   "id": "80c3ef80",
   "metadata": {},
   "source": [
    "**Defining Bootstrapped Two-sampled T-test**\n",
    "1. Find the t-statistic on the original data\n",
    "2. Mix the data together\n",
    "3. Perform bootstrapping on the mixture of data. The parameter of interest is mean\n",
    "4. Find the t-statistic on the bootstrapped result\n",
    "5. Repeat step 3 and 4 for desired number of times\n",
    "6. Find the p-value using following formula:\n",
    "    $$\n",
    "    \\frac{\\text{number of (bootstrapped t-statistic > original t-statistics)}}{\\text{number of trails}}\n",
    "    $$"
   ]
  },
  {
   "cell_type": "code",
   "execution_count": 2,
   "id": "fb8cc93b",
   "metadata": {},
   "outputs": [],
   "source": [
    "def bootstrapped_p_value(\n",
    "    sample_a,\n",
    "    sample_b, \n",
    "    num_bootstrap=1000, \n",
    "    equal_var=True,\n",
    "    two_sided=True\n",
    "):\n",
    "    observed_t_stat, _ = stats.ttest_ind(sample_a, sample_b, equal_var=equal_var)\n",
    "    bootstrap_t_stats = []\n",
    "    total = np.concatenate((sample_a, sample_b))\n",
    "    \n",
    "    for _ in range(num_bootstrap):\n",
    "        resample_a = np.random.choice(total, size=len(sample_a), replace=True)\n",
    "        resample_b = np.random.choice(total, size=len(sample_b), replace=True)\n",
    "        t_stat_bt, _ = stats.ttest_ind(resample_a, resample_b)\n",
    "        bootstrap_t_stats.append(t_stat_bt)\n",
    "    \n",
    "    # Compute p-value\n",
    "    bootstrap_t_stats = np.array(bootstrap_t_stats)\n",
    "    \n",
    "    if two_sided:\n",
    "        bootstrap_t_stats = np.abs(bootstrap_t_stats)\n",
    "        observed_t_stat = np.abs(observed_t_stat)\n",
    "        \n",
    "    p_value = np.mean(bootstrap_t_stats > observed_t_stat)\n",
    "    \n",
    "    return p_value"
   ]
  },
  {
   "cell_type": "markdown",
   "id": "890b50c7",
   "metadata": {},
   "source": [
    "We can demonstrate that the distribution of p-value is indeed $\\text{Uniform}(0,1)$ under null hypothesis"
   ]
  },
  {
   "cell_type": "code",
   "execution_count": 3,
   "id": "c6260a9e",
   "metadata": {},
   "outputs": [
    {
     "name": "stderr",
     "output_type": "stream",
     "text": [
      "100%|██████████| 1000/1000 [03:41<00:00,  4.51it/s]\n"
     ]
    },
    {
     "data": {
      "image/png": "[encoded data removed]",
      "text/plain": [
       "<Figure size 432x288 with 1 Axes>"
      ]
     },
     "metadata": {
      "needs_background": "light"
     },
     "output_type": "display_data"
    }
   ],
   "source": [
    "num_simulations = 1000\n",
    "sample_size = [\n",
    "    30,\n",
    "    300\n",
    "] # sample size is manually set to be unequal\n",
    "\n",
    "p_values = []\n",
    "\n",
    "np.random.seed(42)\n",
    "\n",
    "for _ in tqdm(range(num_simulations)):\n",
    "    sample_a = np.random.normal(loc=0, scale=1, size=sample_size[0])\n",
    "    sample_b = np.random.normal(loc=0, scale=1, size=sample_size[1])\n",
    "    \n",
    "    p_val = bootstrapped_p_value(sample_a, sample_b)\n",
    "\n",
    "    p_values.append(p_val)\n",
    "\n",
    "\n",
    "sns.histplot(p_values, stat='probability')\n",
    "plt.title('Distribution of bootstrapped p-values under null hypothesis')\n",
    "plt.xlabel('p-value')\n",
    "plt.show()"
   ]
  },
  {
   "cell_type": "markdown",
   "id": "d3b9bc8d",
   "metadata": {},
   "source": [
    "Here's another example with unequal variance."
   ]
  },
  {
   "cell_type": "code",
   "execution_count": 4,
   "id": "ac164ad1",
   "metadata": {},
   "outputs": [
    {
     "name": "stderr",
     "output_type": "stream",
     "text": [
      "100%|██████████| 1000/1000 [03:46<00:00,  4.42it/s]\n"
     ]
    },
    {
     "data": {
      "image/png": "[encoded data removed]",
      "text/plain": [
       "<Figure size 432x288 with 1 Axes>"
      ]
     },
     "metadata": {
      "needs_background": "light"
     },
     "output_type": "display_data"
    }
   ],
   "source": [
    "num_simulations = 1000\n",
    "sample_size = [\n",
    "    30,\n",
    "    300\n",
    "] # sample size is manually set to be unequal\n",
    "\n",
    "p_values = []\n",
    "\n",
    "np.random.seed(42)\n",
    "\n",
    "for _ in tqdm(range(num_simulations)):\n",
    "    sample_a = np.random.normal(loc=0, scale=1, size=sample_size[0])\n",
    "    sample_b = np.random.normal(loc=0, scale=4, size=sample_size[1])\n",
    "    \n",
    "    p_val = bootstrapped_p_value(sample_a, sample_b, equal_var=False)\n",
    "\n",
    "    p_values.append(p_val)\n",
    "\n",
    "\n",
    "sns.histplot(p_values, stat='probability')\n",
    "plt.title('Distribution of bootstrapped p-values under null hypothesis')\n",
    "plt.xlabel('p-value')\n",
    "plt.show()"
   ]
  },
  {
   "cell_type": "markdown",
   "id": "6fefa3cf",
   "metadata": {},
   "source": [
    "And also one-sided test."
   ]
  },
  {
   "cell_type": "code",
   "execution_count": 5,
   "id": "97db6489",
   "metadata": {},
   "outputs": [
    {
     "name": "stderr",
     "output_type": "stream",
     "text": [
      "100%|██████████| 1000/1000 [03:46<00:00,  4.41it/s]\n"
     ]
    },
    {
     "data": {
      "image/png": "[encoded data removed]",
      "text/plain": [
       "<Figure size 432x288 with 1 Axes>"
      ]
     },
     "metadata": {
      "needs_background": "light"
     },
     "output_type": "display_data"
    }
   ],
   "source": [
    "num_simulations = 1000\n",
    "sample_size = [\n",
    "    30,\n",
    "    300\n",
    "] # sample size is manually set to be unequal\n",
    "\n",
    "p_values = []\n",
    "\n",
    "np.random.seed(42)\n",
    "\n",
    "for _ in tqdm(range(num_simulations)):\n",
    "    sample_a = np.random.normal(loc=0, scale=1, size=sample_size[0])\n",
    "    sample_b = np.random.normal(loc=0, scale=1, size=sample_size[1])\n",
    "    \n",
    "    p_val = bootstrapped_p_value(sample_a, sample_b, two_sided=False)\n",
    "\n",
    "    p_values.append(p_val)\n",
    "\n",
    "\n",
    "sns.histplot(p_values, stat='probability')\n",
    "plt.title('Distribution of bootstrapped p-values under null hypothesis')\n",
    "plt.xlabel('p-value')\n",
    "plt.show()"
   ]
  }
 ],
 "metadata": {
  "kernelspec": {
   "display_name": "Python 3 (clean)",
   "language": "python",
   "name": "python3_clean"
  },
  "language_info": {
   "codemirror_mode": {
    "name": "ipython",
    "version": 3
   },
   "file_extension": ".py",
   "mimetype": "text/x-python",
   "name": "python",
   "nbconvert_exporter": "python",
   "pygments_lexer": "ipython3",
   "version": "3.9.5"
  }
 },
 "nbformat": 4,
 "nbformat_minor": 5
}
